{
  "cells": [
    {
      "cell_type": "markdown",
      "metadata": {},
      "source": [
        "# 城市热点汇总 Notebook\n",
        "\n",
        "该 Notebook 演示如何使用新的 `spdatalab.dataset.bbox` 模块来整理 bbox 热点分析的结果。\n"
      ]
    },
    {
      "cell_type": "code",
      "execution_count": null,
      "metadata": {},
      "outputs": [],
      "source": [
        "from spdatalab.analysis.notebook_support import (\n",
        "    NB_FAST_ENV_VAR,\n",
        "    configure_project_paths,\n",
        "    display_config,\n",
        "    is_fast_mode,\n",
        "    preview_dataframe,\n",
        ")\n",
        "from spdatalab.dataset.bbox.summary import BatchTop1Config, BBoxHotspotBatch\n",
        "\n",
        "from sqlalchemy import create_engine\n",
        "import os\n",
        "import pandas as pd\n",
        "\n",
        "ctx = configure_project_paths()\n",
        "display_config(ctx)\n",
        "\n",
        "LOCAL_DSN = os.environ.get(\"LOCAL_DSN\")\n",
        "if not LOCAL_DSN:\n",
        "    print(\"未设置 LOCAL_DSN 环境变量，如需连接数据库请先配置。\")\n",
        "\n",
        "FAST_MODE = is_fast_mode()\n",
        "print(f\"Fast mode: {FAST_MODE} (设置 {NB_FAST_ENV_VAR}=1 可启用测试模式)\")\n",
        "\n",
        "engine = None\n",
        "if not FAST_MODE and LOCAL_DSN:\n",
        "    engine = create_engine(LOCAL_DSN, future=True)\n"
      ]
    },
    {
      "cell_type": "code",
      "execution_count": null,
      "metadata": {},
      "outputs": [],
      "source": [
        "config = BatchTop1Config(\n",
        "    output_table=\"city_top1_hotspots\",\n",
        "    max_cities=3 if FAST_MODE else None,\n",
        "    top_percent=1.0,\n",
        ")\n",
        "\n",
        "display_config({\n",
        "    \"output_table\": config.output_table,\n",
        "    \"max_cities\": config.max_cities,\n",
        "    \"top_percent\": config.top_percent,\n",
        "})\n"
      ]
    },
    {
      "cell_type": "code",
      "execution_count": null,
      "metadata": {},
      "outputs": [],
      "source": [
        "if engine is not None:\n",
        "    runner = BBoxHotspotBatch(engine)\n",
        "    inspection = runner.inspect(config)\n",
        "    display_config({\n",
        "        \"analysis_date\": inspection.analysis_date,\n",
        "        \"available_cities\": inspection.available_cities,\n",
        "        \"expected_rows\": inspection.expected_rows,\n",
        "    })\n",
        "\n",
        "    if inspection.available_cities:\n",
        "        result = runner.run(config)\n",
        "        display_config({\n",
        "            \"successful_cities\": result.successful_cities,\n",
        "            \"failed_cities\": result.failed_cities,\n",
        "            \"rows_inserted\": result.extracted_rows,\n",
        "            \"elapsed_seconds\": f\"{result.elapsed_seconds:.2f}\",\n",
        "        })\n",
        "else:\n",
        "    sample = pd.DataFrame(\n",
        "        [\n",
        "            {\"city_id\": \"A001\", \"bbox_count\": 12, \"scene_count\": 4},\n",
        "            {\"city_id\": \"B009\", \"bbox_count\": 7, \"scene_count\": 3},\n",
        "        ]\n",
        "    )\n",
        "    print(\"使用示例数据预览热点结果：\")\n",
        "    preview_dataframe(sample)\n"
      ]
    }
  ],
  "metadata": {
    "kernelspec": {
      "display_name": "Python 3",
      "language": "python",
      "name": "python3"
    },
    "language_info": {
      "name": "python",
      "pygments_lexer": "ipython3"
    }
  },
  "nbformat": 4,
  "nbformat_minor": 5
}