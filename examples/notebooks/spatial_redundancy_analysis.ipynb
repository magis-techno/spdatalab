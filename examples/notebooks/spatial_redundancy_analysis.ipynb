{
  "cells": [
    {
      "cell_type": "markdown",
      "metadata": {},
      "source": [
        "# 空间冗余可视化分析\n",
        "\n",
        "分析数据采集的空间冗余情况，量化\"X%的空间包含Y%的数据\"。\n",
        "\n",
        "## 使用前准备\n",
        "\n",
        "### 1. 创建基础表（首次运行）\n",
        "```bash\n",
        "python ../dataset/bbox_examples/analyze_spatial_redundancy.py --create-table\n",
        "```\n",
        "\n",
        "### 2. 生成grid数据\n",
        "```bash\n",
        "# 分析指定城市\n",
        "python ../dataset/bbox_examples/batch_grid_analysis.py --cities A263 B001\n",
        "\n",
        "# 或分析所有城市（不指定--cities参数）\n",
        "python ../dataset/bbox_examples/batch_grid_analysis.py\n",
        "\n",
        "# 或指定返回的网格百分比/数量\n",
        "python ../dataset/bbox_examples/batch_grid_analysis.py --top-percent 5  # 前5%最密集网格\n",
        "python ../dataset/bbox_examples/batch_grid_analysis.py --top-n 10      # 前10个最密集网格\n",
        "```\n",
        "\n",
        "### 3. 快速查看冗余度\n",
        "```bash\n",
        "python ../dataset/bbox_examples/analyze_spatial_redundancy.py --export-csv\n",
        "```\n",
        "\n",
        "## 核心指标\n",
        "\n",
        "**冗余指数** = 场景占比 / 面积占比\n",
        "\n",
        "- **< 5**: 数据分布均匀 ✅\n",
        "- **5-10**: 轻度集中 \n",
        "- **10-20**: 中度冗余 ⚠️\n",
        "- **> 20**: 严重冗余 ❌\n",
        "\n",
        "**例子**: 冗余指数=15 表示 1%的面积包含了15%的场景（15倍集中）\n"
      ]
    },
    {
      "cell_type": "code",
      "execution_count": null,
      "metadata": {},
      "outputs": [],
      "source": [
        "# 导入库\n",
        "import sys\n",
        "from pathlib import Path\n",
        "import numpy as np\n",
        "import pandas as pd\n",
        "import matplotlib.pyplot as plt\n",
        "import seaborn as sns\n",
        "from sqlalchemy import create_engine, text\n",
        "\n",
        "# 设置样式\n",
        "plt.rcParams['figure.figsize'] = (12, 6)\n",
        "sns.set_style(\"whitegrid\")\n",
        "\n",
        "# 添加项目路径\n",
        "project_root = Path.cwd().parent.parent\n",
        "sys.path.insert(0, str(project_root / \"src\"))\n",
        "\n",
        "from spdatalab.dataset.bbox import LOCAL_DSN\n",
        "\n",
        "print(\"✅ 库导入成功\")\n"
      ]
    },
    {
      "cell_type": "markdown",
      "metadata": {},
      "source": [
        "## 1. 数据加载\n"
      ]
    },
    {
      "cell_type": "code",
      "execution_count": null,
      "metadata": {},
      "outputs": [],
      "source": [
        "# 连接数据库并加载城市grid数据\n",
        "engine = create_engine(LOCAL_DSN)\n",
        "\n",
        "cities_sql = \"\"\"\n",
        "SELECT \n",
        "    city_id,\n",
        "    COUNT(*) as grid_count,\n",
        "    SUM(bbox_count) as total_bboxes,\n",
        "    MAX(bbox_count) as max_density,\n",
        "    AVG(bbox_count)::numeric(10,2) as avg_density\n",
        "FROM city_grid_density\n",
        "WHERE analysis_date = CURRENT_DATE\n",
        "GROUP BY city_id\n",
        "ORDER BY total_bboxes DESC\n",
        "\"\"\"\n",
        "\n",
        "cities_df = pd.read_sql(cities_sql, engine)\n",
        "print(f\"📊 发现 {len(cities_df)} 个城市的grid数据\")\n",
        "cities_df.head(10)\n"
      ]
    },
    {
      "cell_type": "markdown",
      "metadata": {},
      "source": [
        "## 2. 单城市Grid密度分析\n"
      ]
    },
    {
      "cell_type": "code",
      "execution_count": null,
      "metadata": {},
      "outputs": [],
      "source": [
        "# 选择要分析的城市\n",
        "selected_city = cities_df.iloc[0]['city_id']\n",
        "print(f\"🎯 分析城市: {selected_city}\")\n",
        "\n",
        "# 加载该城市的grid数据\n",
        "city_grid_sql = f\"\"\"\n",
        "SELECT \n",
        "    grid_x, grid_y, bbox_count, scene_count\n",
        "FROM city_grid_density\n",
        "WHERE city_id = '{selected_city}' AND analysis_date = CURRENT_DATE\n",
        "ORDER BY bbox_count DESC\n",
        "\"\"\"\n",
        "\n",
        "city_grid_df = pd.read_sql(city_grid_sql, engine)\n",
        "print(f\"Grid数量: {len(city_grid_df)}, 密度范围: {city_grid_df['bbox_count'].min()} ~ {city_grid_df['bbox_count'].max()}\")\n",
        "\n",
        "# Grid密度热力图\n",
        "fig, ax = plt.subplots(figsize=(10, 8))\n",
        "scatter = ax.scatter(city_grid_df['grid_x'], city_grid_df['grid_y'], \n",
        "                     c=city_grid_df['bbox_count'], s=100, \n",
        "                     cmap='YlOrRd', alpha=0.7, edgecolors='black', linewidth=0.5)\n",
        "ax.set_xlabel('Grid X')\n",
        "ax.set_ylabel('Grid Y')\n",
        "ax.set_title(f'{selected_city} - BBox密度分布')\n",
        "ax.set_aspect('equal')\n",
        "plt.colorbar(scatter, ax=ax, label='BBox数量/Grid')\n",
        "plt.tight_layout()\n",
        "plt.show()\n"
      ]
    },
    {
      "cell_type": "markdown",
      "metadata": {},
      "source": [
        "## 3. 帕累托分析（数据集中度）\n"
      ]
    },
    {
      "cell_type": "code",
      "execution_count": null,
      "metadata": {},
      "outputs": [],
      "source": [
        "# 计算累积分布\n",
        "sorted_counts = np.sort(city_grid_df['bbox_count'])[::-1]\n",
        "cumulative_pct = np.cumsum(sorted_counts) / sorted_counts.sum() * 100\n",
        "grid_pct = np.arange(1, len(sorted_counts) + 1) / len(sorted_counts) * 100\n",
        "\n",
        "# 绘制帕累托曲线\n",
        "fig, ax = plt.subplots(figsize=(10, 6))\n",
        "ax.plot(grid_pct, cumulative_pct, linewidth=2, color='steelblue', label='实际分布')\n",
        "ax.plot([0, 100], [0, 100], linestyle='--', color='gray', linewidth=1.5, label='均匀分布')\n",
        "\n",
        "# 标记关键点\n",
        "for pct in [1, 5, 10, 20]:\n",
        "    idx = int(len(sorted_counts) * pct / 100)\n",
        "    if idx < len(cumulative_pct):\n",
        "        coverage = cumulative_pct[idx]\n",
        "        ax.plot([pct, pct], [0, coverage], 'r:', alpha=0.5)\n",
        "        ax.plot([0, pct], [coverage, coverage], 'r:', alpha=0.5)\n",
        "        ax.text(pct+1, coverage+3, f'{pct}%→{coverage:.1f}%', fontsize=9)\n",
        "\n",
        "ax.set_xlabel('累积Grid百分比 (%)')\n",
        "ax.set_ylabel('累积BBox百分比 (%)')\n",
        "ax.set_title(f'{selected_city} - 帕累托曲线')\n",
        "ax.legend()\n",
        "ax.grid(alpha=0.3)\n",
        "plt.show()\n",
        "\n",
        "# 输出冗余指标\n",
        "print(\"冗余度指标:\")\n",
        "for pct in [1, 5, 10]:\n",
        "    idx = int(len(sorted_counts) * pct / 100)\n",
        "    if idx < len(cumulative_pct):\n",
        "        coverage = cumulative_pct[idx]\n",
        "        print(f\"  Top {pct}%: 包含 {coverage:.1f}% 的bbox，冗余指数≈{coverage/pct:.1f}\")\n"
      ]
    },
    {
      "cell_type": "markdown",
      "metadata": {},
      "source": [
        "## 4. 多城市冗余度对比\n"
      ]
    },
    {
      "cell_type": "code",
      "execution_count": null,
      "metadata": {},
      "outputs": [],
      "source": [
        "# 简化的冗余度计算\n",
        "def calc_redundancy(city_id, top_pct=1.0):\n",
        "    sql = f\"\"\"\n",
        "    WITH all_grids AS (\n",
        "        SELECT bbox_count FROM city_grid_density\n",
        "        WHERE city_id = '{city_id}' AND analysis_date = CURRENT_DATE\n",
        "        ORDER BY bbox_count DESC\n",
        "    ),\n",
        "    top_grids AS (\n",
        "        SELECT * FROM all_grids\n",
        "        LIMIT GREATEST(1, (SELECT ROUND(COUNT(*) * {top_pct/100.0}) FROM all_grids)::int)\n",
        "    )\n",
        "    SELECT \n",
        "        (SELECT SUM(bbox_count) FROM top_grids)::float / NULLIF((SELECT SUM(bbox_count) FROM all_grids), 0) * 100 as bbox_pct,\n",
        "        (SELECT COUNT(*) FROM top_grids)::float / NULLIF((SELECT COUNT(*) FROM all_grids), 0) * 100 as grid_pct\n",
        "    \"\"\"\n",
        "    r = pd.read_sql(sql, engine).iloc[0]\n",
        "    return r['bbox_pct'] / r['grid_pct'] if r['grid_pct'] > 0 else 0\n",
        "\n",
        "# 计算所有城市的冗余度\n",
        "print(\"计算各城市冗余度...\")\n",
        "cities_df['redundancy_index'] = cities_df['city_id'].apply(calc_redundancy)\n",
        "cities_df = cities_df.sort_values('redundancy_index', ascending=False)\n",
        "\n",
        "# 冗余度对比\n",
        "top10 = cities_df.head(10)\n",
        "fig, ax = plt.subplots(figsize=(12, 6))\n",
        "colors = ['red' if x > 20 else 'orange' if x > 10 else 'green' for x in top10['redundancy_index']]\n",
        "bars = ax.bar(range(len(top10)), top10['redundancy_index'], color=colors, alpha=0.7, edgecolor='black')\n",
        "ax.set_xticks(range(len(top10)))\n",
        "ax.set_xticklabels(top10['city_id'], rotation=45)\n",
        "ax.set_ylabel('冗余指数')\n",
        "ax.set_title('Top 10城市冗余度对比')\n",
        "ax.axhline(10, color='orange', linestyle='--', alpha=0.7, label='中度阈值')\n",
        "ax.axhline(20, color='red', linestyle='--', alpha=0.7, label='严重阈值')\n",
        "ax.legend()\n",
        "ax.grid(axis='y', alpha=0.3)\n",
        "for i, (bar, val) in enumerate(zip(bars, top10['redundancy_index'])):\n",
        "    ax.text(i, val+0.5, f'{val:.1f}', ha='center', fontsize=9)\n",
        "plt.tight_layout()\n",
        "plt.show()\n",
        "\n",
        "print(f\"\\n统计: 平均={cities_df['redundancy_index'].mean():.2f}, 中位数={cities_df['redundancy_index'].median():.2f}\")\n"
      ]
    },
    {
      "cell_type": "markdown",
      "metadata": {},
      "source": [
        "## 5. 导出结果\n"
      ]
    },
    {
      "cell_type": "code",
      "execution_count": null,
      "metadata": {},
      "outputs": [],
      "source": [
        "# 导出CSV\n",
        "output_file = 'city_redundancy_analysis.csv'\n",
        "cities_df.to_csv(output_file, index=False, encoding='utf-8-sig')\n",
        "print(f\"✅ 已导出: {output_file}\")\n",
        "cities_df[['city_id', 'grid_count', 'total_bboxes', 'max_density', 'redundancy_index']].head()\n"
      ]
    }
  ],
  "metadata": {
    "language_info": {
      "name": "python"
    }
  },
  "nbformat": 4,
  "nbformat_minor": 2
}
